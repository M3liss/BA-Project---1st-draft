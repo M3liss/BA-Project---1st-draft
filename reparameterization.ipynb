{
  "nbformat": 4,
  "nbformat_minor": 0,
  "metadata": {
    "colab": {
      "provenance": [],
      "mount_file_id": "1CoY7X5X_Zl12cnVg_m8F2Ti0IaHY4SNa",
      "authorship_tag": "ABX9TyP6lUa8Rdi8PxBgnot/nMI/",
      "include_colab_link": true
    },
    "kernelspec": {
      "name": "python3",
      "display_name": "Python 3"
    },
    "language_info": {
      "name": "python"
    },
    "accelerator": "GPU",
    "gpuClass": "standard"
  },
  "cells": [
    {
      "cell_type": "markdown",
      "metadata": {
        "id": "view-in-github",
        "colab_type": "text"
      },
      "source": [
        "<a href=\"https://colab.research.google.com/github/M3liss/BA-Project---1st-draft/blob/main/reparameterization.ipynb\" target=\"_parent\"><img src=\"https://colab.research.google.com/assets/colab-badge.svg\" alt=\"Open In Colab\"/></a>"
      ]
    },
    {
      "cell_type": "code",
      "execution_count": null,
      "metadata": {
        "colab": {
          "base_uri": "https://localhost:8080/"
        },
        "id": "0MuPiUswEIJy",
        "outputId": "32b97f58-7391-4df2-fdd1-5787e3d142ef"
      },
      "outputs": [
        {
          "output_type": "stream",
          "name": "stdout",
          "text": [
            "/content/drive/MyDrive/BA/yolov7-main\n"
          ]
        }
      ],
      "source": [
        "%cd /content/drive/MyDrive/BA/yolov7-main\n",
        "# import\n",
        "from copy import deepcopy\n",
        "from models.yolo import Model\n",
        "import torch\n",
        "from utils.torch_utils import select_device, is_parallel\n",
        "import yaml\n",
        "\n",
        "device = select_device('0', batch_size=1)\n",
        "# model trained by cfg/training/*.yaml\n",
        "ckpt = torch.load('/content/drive/MyDrive/BA/yolov7-main/runs/train/try2/weights/best.pt', map_location=device)\n",
        "# reparameterized model in cfg/deploy/*.yaml\n",
        "model = Model('cfg/deploy/yolov7.yaml', ch=3, nc=2).to(device)\n",
        "\n",
        "with open('cfg/deploy/yolov7.yaml') as f:\n",
        "    yml = yaml.load(f, Loader=yaml.SafeLoader)\n",
        "anchors = len(yml['anchors'][0]) // 2\n",
        "\n",
        "# copy intersect weights\n",
        "state_dict = ckpt['model'].float().state_dict()\n",
        "exclude = []\n",
        "intersect_state_dict = {k: v for k, v in state_dict.items() if k in model.state_dict() and not any(x in k for x in exclude) and v.shape == model.state_dict()[k].shape}\n",
        "model.load_state_dict(intersect_state_dict, strict=False)\n",
        "model.names = ckpt['model'].names\n",
        "model.nc = ckpt['model'].nc\n",
        "\n",
        "# reparametrized YOLOR\n",
        "for i in range((model.nc+5)*anchors):\n",
        "    model.state_dict()['model.105.m.0.weight'].data[i, :, :, :] *= state_dict['model.105.im.0.implicit'].data[:, i, : :].squeeze()\n",
        "    model.state_dict()['model.105.m.1.weight'].data[i, :, :, :] *= state_dict['model.105.im.1.implicit'].data[:, i, : :].squeeze()\n",
        "    model.state_dict()['model.105.m.2.weight'].data[i, :, :, :] *= state_dict['model.105.im.2.implicit'].data[:, i, : :].squeeze()\n",
        "model.state_dict()['model.105.m.0.bias'].data += state_dict['model.105.m.0.weight'].mul(state_dict['model.105.ia.0.implicit']).sum(1).squeeze()\n",
        "model.state_dict()['model.105.m.1.bias'].data += state_dict['model.105.m.1.weight'].mul(state_dict['model.105.ia.1.implicit']).sum(1).squeeze()\n",
        "model.state_dict()['model.105.m.2.bias'].data += state_dict['model.105.m.2.weight'].mul(state_dict['model.105.ia.2.implicit']).sum(1).squeeze()\n",
        "model.state_dict()['model.105.m.0.bias'].data *= state_dict['model.105.im.0.implicit'].data.squeeze()\n",
        "model.state_dict()['model.105.m.1.bias'].data *= state_dict['model.105.im.1.implicit'].data.squeeze()\n",
        "model.state_dict()['model.105.m.2.bias'].data *= state_dict['model.105.im.2.implicit'].data.squeeze()\n",
        "\n",
        "# model to be saved\n",
        "ckpt = {'model': deepcopy(model.module if is_parallel(model) else model).half(),\n",
        "        'optimizer': None,\n",
        "        'training_results': None,\n",
        "        'epoch': -1}\n",
        "\n",
        "# save reparameterized model\n",
        "torch.save(ckpt, 'cfg/deploy/yolov7.pt')"
      ]
    },
    {
      "cell_type": "code",
      "source": [],
      "metadata": {
        "id": "PgD7ypSGE0u1"
      },
      "execution_count": null,
      "outputs": []
    }
  ]
}