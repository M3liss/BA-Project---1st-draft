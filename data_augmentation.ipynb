{
  "nbformat": 4,
  "nbformat_minor": 0,
  "metadata": {
    "colab": {
      "provenance": [],
      "authorship_tag": "ABX9TyP1Ydt9dcYlRYqeQllneQD2",
      "include_colab_link": true
    },
    "kernelspec": {
      "name": "python3",
      "display_name": "Python 3"
    },
    "language_info": {
      "name": "python"
    }
  },
  "cells": [
    {
      "cell_type": "markdown",
      "metadata": {
        "id": "view-in-github",
        "colab_type": "text"
      },
      "source": [
        "<a href=\"https://colab.research.google.com/github/M3liss/BA-Project---1st-draft/blob/main/data_augmentation.ipynb\" target=\"_parent\"><img src=\"https://colab.research.google.com/assets/colab-badge.svg\" alt=\"Open In Colab\"/></a>"
      ]
    },
    {
      "cell_type": "code",
      "execution_count": 146,
      "metadata": {
        "id": "bsBziVi_ilKE"
      },
      "outputs": [],
      "source": [
        "import matplotlib.pyplot as plt\n",
        "import numpy as np\n",
        "import tensorflow as tf\n",
        "from pathlib import Path\n",
        "import xml.etree.cElementTree as et\n",
        "import PIL\n",
        "import random"
      ]
    },
    {
      "cell_type": "code",
      "source": [
        "! git clone https://github.com/M3liss/BA-Project---1st-draft.git"
      ],
      "metadata": {
        "id": "b2rOKssWitYn",
        "colab": {
          "base_uri": "https://localhost:8080/"
        },
        "outputId": "29f2ac78-75d6-492c-c8c4-9fef122fa2ad"
      },
      "execution_count": 106,
      "outputs": [
        {
          "output_type": "stream",
          "name": "stdout",
          "text": [
            "fatal: destination path 'BA-Project---1st-draft' already exists and is not an empty directory.\n"
          ]
        }
      ]
    },
    {
      "cell_type": "code",
      "source": [
        "#HORIZONTAL FLIPPING\n",
        "def hor_flip(img, anno):\n",
        "    WIDTH = 640\n",
        "    new_img = tf.io.read_file(img)\n",
        "    new_img = tf.image.decode_jpeg(new_img, channels=3)\n",
        "    new_img = tf.image.flip_left_right(new_img)\n",
        "    lol = tf.io.encode_jpeg(new_img)\n",
        "    tf.io.write_file(\"aa.jpg\", lol)\n",
        "    tree = et.parse(anno)\n",
        "    root=tree.getroot()\n",
        "    for i in root.iter('bndbox'):\n",
        "        xmin = str(i.find('xmin').text)\n",
        "        xmax = str(i.find('xmax').text)\n",
        "    xmin = 640 - int(xmin)\n",
        "    xmax = 640 - int(xmax)\n",
        "    for i in root.iter('xmin'):\n",
        "        i.text = str(xmax)\n",
        "    for i in root.iter('xmax'):\n",
        "        i.text = str(xmin)\n",
        "    tree.write(\"aa.xml\")"
      ],
      "metadata": {
        "id": "IIrNlvcxspcQ"
      },
      "execution_count": 107,
      "outputs": []
    },
    {
      "cell_type": "code",
      "source": [
        "#ROTATION\n",
        "def rotation(img, anno):\n",
        "    new_img = tf.io.read_file(img)\n",
        "    new_img = tf.image.decode_jpeg(new_img, channels=3)\n",
        "    new_img = tf.image.rot90(new_img)\n",
        "    lol = tf.io.encode_jpeg(new_img)\n",
        "    tf.io.write_file(\"aa.jpg\", lol)\n",
        "    tree = et.parse(anno)\n",
        "    root=tree.getroot()\n",
        "    for i in root.iter('bndbox'):\n",
        "        xmin = str(i.find('xmin').text)\n",
        "        xmax = str(i.find('xmax').text)\n",
        "    xmin = 640 - int(xmin)\n",
        "    xmax = 640 - int(xmax)\n",
        "    for i in root.iter('xmin'):\n",
        "        i.text = str(xmax)\n",
        "    for i in root.iter('xmax'):\n",
        "        i.text = str(xmin)\n",
        "    tree.write(\"aa.xml\")"
      ],
      "metadata": {
        "id": "RZflCfCHsu3h"
      },
      "execution_count": 117,
      "outputs": []
    },
    {
      "cell_type": "code",
      "source": [
        "def test(img, anno):\n",
        "    a = 1"
      ],
      "metadata": {
        "id": "3rCrcA8guwCr"
      },
      "execution_count": 116,
      "outputs": []
    },
    {
      "cell_type": "code",
      "source": [
        "#PIL.Image.open(str(PATH))\n",
        "PATH = \"BA-Project---1st-draft/annotations\"\n",
        "#the code that runs it ALL\n",
        "files = Path(PATH).glob('*')\n",
        "rand_operation = [test, rotation]\n",
        "names = [\"test\", \"rotation\"]\n",
        "for file in files:\n",
        "    file = str(file)\n",
        "    if (file[-3] == \"j\"):\n",
        "        op = random.randint(0, len(rand_operation)-1)\n",
        "        annotation_file = file.replace(\"jpg\", \"xml\")\n",
        "        rand_operation[op](file, \"b\")\n",
        "        print(f\"The operation {names[op]} was successfully performed on {file}\")"
      ],
      "metadata": {
        "id": "gPnQFCYwuoqm"
      },
      "execution_count": null,
      "outputs": []
    }
  ]
}