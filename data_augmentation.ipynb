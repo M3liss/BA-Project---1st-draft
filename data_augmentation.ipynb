{
  "nbformat": 4,
  "nbformat_minor": 0,
  "metadata": {
    "colab": {
      "provenance": [],
      "authorship_tag": "ABX9TyNoyhD37Y3Xs3dc8EYyEoQr",
      "include_colab_link": true
    },
    "kernelspec": {
      "name": "python3",
      "display_name": "Python 3"
    },
    "language_info": {
      "name": "python"
    }
  },
  "cells": [
    {
      "cell_type": "markdown",
      "metadata": {
        "id": "view-in-github",
        "colab_type": "text"
      },
      "source": [
        "<a href=\"https://colab.research.google.com/github/M3liss/BA-Project---1st-draft/blob/main/data_augmentation.ipynb\" target=\"_parent\"><img src=\"https://colab.research.google.com/assets/colab-badge.svg\" alt=\"Open In Colab\"/></a>"
      ]
    },
    {
      "cell_type": "code",
      "execution_count": 7,
      "metadata": {
        "id": "bsBziVi_ilKE"
      },
      "outputs": [],
      "source": [
        "import matplotlib.pyplot as plt\n",
        "import numpy as np\n",
        "import tensorflow as tf\n",
        "import xml.etree.cElementTree as et\n",
        "import PIL\n",
        "import os\n",
        "import random"
      ]
    },
    {
      "cell_type": "code",
      "source": [
        "! git clone https://github.com/M3liss/BA-Project---1st-draft.git"
      ],
      "metadata": {
        "id": "b2rOKssWitYn",
        "colab": {
          "base_uri": "https://localhost:8080/"
        },
        "outputId": "b187870e-0ad6-4a58-810b-33db8a29f21d"
      },
      "execution_count": 2,
      "outputs": [
        {
          "output_type": "stream",
          "name": "stdout",
          "text": [
            "Cloning into 'BA-Project---1st-draft'...\n",
            "remote: Enumerating objects: 430, done.\u001b[K\n",
            "remote: Counting objects: 100% (24/24), done.\u001b[K\n",
            "remote: Compressing objects: 100% (24/24), done.\u001b[K\n",
            "remote: Total 430 (delta 11), reused 2 (delta 0), pack-reused 406\u001b[K\n",
            "Receiving objects: 100% (430/430), 12.24 MiB | 40.44 MiB/s, done.\n",
            "Resolving deltas: 100% (175/175), done.\n"
          ]
        }
      ]
    },
    {
      "cell_type": "code",
      "source": [
        "#HORIZONTAL FLIPPING\n",
        "def hor_flip(img, anno):\n",
        "    global WIDTH, PATH\n",
        "    new_name = img.split('/',3)[-1]\n",
        "    new_name = PATH + \"/fli_\" + new_name\n",
        "    new_img = tf.io.read_file(img)\n",
        "    new_img = tf.image.decode_jpeg(new_img, channels=3)\n",
        "    new_img = tf.image.flip_left_right(new_img)\n",
        "    lol = tf.io.encode_jpeg(new_img)\n",
        "    tf.io.write_file(new_name, lol)\n",
        "    tree = et.parse(anno)\n",
        "    root=tree.getroot()\n",
        "    for i in root.iter('bndbox'):\n",
        "        xmin = str(i.find('xmin').text)\n",
        "        xmax = str(i.find('xmax').text)\n",
        "        xmin = WIDTH - int(xmin)\n",
        "        xmax = WIDTH - int(xmax)\n",
        "        for n in i.iter('xmin'):\n",
        "            n.text = str(xmax)\n",
        "        for n in i.iter('xmax'):\n",
        "            n.text = str(xmin)\n",
        "    tree.write(new_name.replace(\"jpg\", \"xml\"))"
      ],
      "metadata": {
        "id": "IIrNlvcxspcQ"
      },
      "execution_count": 3,
      "outputs": []
    },
    {
      "cell_type": "code",
      "source": [
        "#ROTATION\n",
        "def rotation(img, anno):\n",
        "    global WIDTH, HEIGHT, PATH \n",
        "    new_name = img.split('/',3)[-1]\n",
        "    new_name = PATH + \"/rot_\" + new_name\n",
        "    new_img = tf.io.read_file(img)\n",
        "    new_img = tf.image.decode_jpeg(new_img, channels=3)\n",
        "    new_img = tf.image.rot90(new_img, k=-2)\n",
        "    lol = tf.io.encode_jpeg(new_img)\n",
        "    tf.io.write_file(new_name, lol)\n",
        "    tree = et.parse(anno)\n",
        "    root=tree.getroot()\n",
        "    for i in root.iter('bndbox'):\n",
        "        xmin = str(i.find('xmin').text)\n",
        "        ymin = str(i.find('ymin').text)\n",
        "        xmax = str(i.find('xmax').text)\n",
        "        ymax = str(i.find('ymax').text)\n",
        "        xmin = WIDTH - int(xmin)\n",
        "        ymin = HEIGHT - int(ymin)\n",
        "        xmax = WIDTH - int(xmax)\n",
        "        ymax = HEIGHT - int(ymax)\n",
        "        for n in i.iter('xmin'):\n",
        "            n.text = str(xmax)\n",
        "        for n in i.iter('ymin'):\n",
        "            n.text = str(ymax)\n",
        "        for n in i.iter('xmax'):\n",
        "            n.text = str(xmin)\n",
        "        for n in i.iter('ymax'):\n",
        "            n.text = str(ymin)\n",
        "    tree.write(new_name.replace(\"jpg\", \"xml\"))\n"
      ],
      "metadata": {
        "id": "RZflCfCHsu3h"
      },
      "execution_count": 4,
      "outputs": []
    },
    {
      "cell_type": "code",
      "source": [
        "from pathlib import Path\n",
        "#PIL.Image.open(str(PATH))\n",
        "PATH = \"BA-Project---1st-draft/annotations\"\n",
        "WIDTH = 640\n",
        "HEIGHT = 360\n",
        "#the code that runs it ALL\n",
        "files = Path(PATH).glob('*')\n",
        "rand_operation = [hor_flip, rotation]\n",
        "names = [\"hor_flip\", \"rotation\"]\n",
        "for file in files:\n",
        "    file = str(file)\n",
        "    anno_file = file.replace(\"jpg\", \"xml\")\n",
        "    if (file[-3] == \"j\" and file.find(\"rot_\") == -1 and file.find(\"fli_\") == -1 and os.path.exists(anno_file)):\n",
        "        op = random.randint(0, len(rand_operation)-1)\n",
        "        rand_operation[op](file, anno_file)\n",
        "        print(f\"The operation {names[op]} was successfully performed on {file}\")"
      ],
      "metadata": {
        "id": "gPnQFCYwuoqm"
      },
      "execution_count": null,
      "outputs": []
    },
    {
      "cell_type": "code",
      "source": [],
      "metadata": {
        "id": "l517CxL9FoX8"
      },
      "execution_count": null,
      "outputs": []
    }
  ]
}